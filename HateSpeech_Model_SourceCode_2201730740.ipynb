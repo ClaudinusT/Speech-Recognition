{
  "nbformat": 4,
  "nbformat_minor": 0,
  "metadata": {
    "accelerator": "GPU",
    "colab": {
      "name": "HateSpeech Model SourceCode - 2201730740.ipynb",
      "provenance": [],
      "collapsed_sections": [],
      "toc_visible": true,
      "authorship_tag": "ABX9TyNEusThoaelXZg7+FOwKkXC",
      "include_colab_link": true
    },
    "kernelspec": {
      "display_name": "Python 3",
      "name": "python3"
    },
    "widgets": {
      "application/vnd.jupyter.widget-state+json": {
        "4f34478db9a541bb961b4fa89781357e": {
          "model_module": "@jupyter-widgets/controls",
          "model_name": "HBoxModel",
          "state": {
            "_view_name": "HBoxView",
            "_dom_classes": [],
            "_model_name": "HBoxModel",
            "_view_module": "@jupyter-widgets/controls",
            "_model_module_version": "1.5.0",
            "_view_count": null,
            "_view_module_version": "1.5.0",
            "box_style": "",
            "layout": "IPY_MODEL_365cd5f82ebb4e1fa8695e7e77b2a1bc",
            "_model_module": "@jupyter-widgets/controls",
            "children": [
              "IPY_MODEL_b5a8184a4761401b8770a932adb820ec",
              "IPY_MODEL_423426bb821c44f9b088e63f6d02ed1f"
            ]
          },
          "model_module_version": "1.5.0"
        },
        "365cd5f82ebb4e1fa8695e7e77b2a1bc": {
          "model_module": "@jupyter-widgets/base",
          "model_name": "LayoutModel",
          "state": {
            "_view_name": "LayoutView",
            "grid_template_rows": null,
            "right": null,
            "justify_content": null,
            "_view_module": "@jupyter-widgets/base",
            "overflow": null,
            "_model_module_version": "1.2.0",
            "_view_count": null,
            "flex_flow": null,
            "width": null,
            "min_width": null,
            "border": null,
            "align_items": null,
            "bottom": null,
            "_model_module": "@jupyter-widgets/base",
            "top": null,
            "grid_column": null,
            "overflow_y": null,
            "overflow_x": null,
            "grid_auto_flow": null,
            "grid_area": null,
            "grid_template_columns": null,
            "flex": null,
            "_model_name": "LayoutModel",
            "justify_items": null,
            "grid_row": null,
            "max_height": null,
            "align_content": null,
            "visibility": null,
            "align_self": null,
            "height": null,
            "min_height": null,
            "padding": null,
            "grid_auto_rows": null,
            "grid_gap": null,
            "max_width": null,
            "order": null,
            "_view_module_version": "1.2.0",
            "grid_template_areas": null,
            "object_position": null,
            "object_fit": null,
            "grid_auto_columns": null,
            "margin": null,
            "display": null,
            "left": null
          },
          "model_module_version": "1.2.0"
        },
        "b5a8184a4761401b8770a932adb820ec": {
          "model_module": "@jupyter-widgets/controls",
          "model_name": "FloatProgressModel",
          "state": {
            "_view_name": "ProgressView",
            "style": "IPY_MODEL_5749f4688aae40cca9affc9eb1b41696",
            "_dom_classes": [],
            "description": "Downloading: 100%",
            "_model_name": "FloatProgressModel",
            "bar_style": "success",
            "max": 231508,
            "_view_module": "@jupyter-widgets/controls",
            "_model_module_version": "1.5.0",
            "value": 231508,
            "_view_count": null,
            "_view_module_version": "1.5.0",
            "orientation": "horizontal",
            "min": 0,
            "description_tooltip": null,
            "_model_module": "@jupyter-widgets/controls",
            "layout": "IPY_MODEL_ca69cce1cf5b4a06b649dd7a8c3d5a8d"
          },
          "model_module_version": "1.5.0"
        },
        "423426bb821c44f9b088e63f6d02ed1f": {
          "model_module": "@jupyter-widgets/controls",
          "model_name": "HTMLModel",
          "state": {
            "_view_name": "HTMLView",
            "style": "IPY_MODEL_551dd8a45e15431ea79f917b5fbc1229",
            "_dom_classes": [],
            "description": "",
            "_model_name": "HTMLModel",
            "placeholder": "​",
            "_view_module": "@jupyter-widgets/controls",
            "_model_module_version": "1.5.0",
            "value": " 232k/232k [00:00&lt;00:00, 3.17MB/s]",
            "_view_count": null,
            "_view_module_version": "1.5.0",
            "description_tooltip": null,
            "_model_module": "@jupyter-widgets/controls",
            "layout": "IPY_MODEL_02e8a27170c542fc8f25e1f664ac170c"
          },
          "model_module_version": "1.5.0"
        },
        "5749f4688aae40cca9affc9eb1b41696": {
          "model_module": "@jupyter-widgets/controls",
          "model_name": "ProgressStyleModel",
          "state": {
            "_view_name": "StyleView",
            "_model_name": "ProgressStyleModel",
            "description_width": "initial",
            "_view_module": "@jupyter-widgets/base",
            "_model_module_version": "1.5.0",
            "_view_count": null,
            "_view_module_version": "1.2.0",
            "bar_color": null,
            "_model_module": "@jupyter-widgets/controls"
          },
          "model_module_version": "1.5.0"
        },
        "ca69cce1cf5b4a06b649dd7a8c3d5a8d": {
          "model_module": "@jupyter-widgets/base",
          "model_name": "LayoutModel",
          "state": {
            "_view_name": "LayoutView",
            "grid_template_rows": null,
            "right": null,
            "justify_content": null,
            "_view_module": "@jupyter-widgets/base",
            "overflow": null,
            "_model_module_version": "1.2.0",
            "_view_count": null,
            "flex_flow": null,
            "width": null,
            "min_width": null,
            "border": null,
            "align_items": null,
            "bottom": null,
            "_model_module": "@jupyter-widgets/base",
            "top": null,
            "grid_column": null,
            "overflow_y": null,
            "overflow_x": null,
            "grid_auto_flow": null,
            "grid_area": null,
            "grid_template_columns": null,
            "flex": null,
            "_model_name": "LayoutModel",
            "justify_items": null,
            "grid_row": null,
            "max_height": null,
            "align_content": null,
            "visibility": null,
            "align_self": null,
            "height": null,
            "min_height": null,
            "padding": null,
            "grid_auto_rows": null,
            "grid_gap": null,
            "max_width": null,
            "order": null,
            "_view_module_version": "1.2.0",
            "grid_template_areas": null,
            "object_position": null,
            "object_fit": null,
            "grid_auto_columns": null,
            "margin": null,
            "display": null,
            "left": null
          },
          "model_module_version": "1.2.0"
        },
        "551dd8a45e15431ea79f917b5fbc1229": {
          "model_module": "@jupyter-widgets/controls",
          "model_name": "DescriptionStyleModel",
          "state": {
            "_view_name": "StyleView",
            "_model_name": "DescriptionStyleModel",
            "description_width": "",
            "_view_module": "@jupyter-widgets/base",
            "_model_module_version": "1.5.0",
            "_view_count": null,
            "_view_module_version": "1.2.0",
            "_model_module": "@jupyter-widgets/controls"
          },
          "model_module_version": "1.5.0"
        },
        "02e8a27170c542fc8f25e1f664ac170c": {
          "model_module": "@jupyter-widgets/base",
          "model_name": "LayoutModel",
          "state": {
            "_view_name": "LayoutView",
            "grid_template_rows": null,
            "right": null,
            "justify_content": null,
            "_view_module": "@jupyter-widgets/base",
            "overflow": null,
            "_model_module_version": "1.2.0",
            "_view_count": null,
            "flex_flow": null,
            "width": null,
            "min_width": null,
            "border": null,
            "align_items": null,
            "bottom": null,
            "_model_module": "@jupyter-widgets/base",
            "top": null,
            "grid_column": null,
            "overflow_y": null,
            "overflow_x": null,
            "grid_auto_flow": null,
            "grid_area": null,
            "grid_template_columns": null,
            "flex": null,
            "_model_name": "LayoutModel",
            "justify_items": null,
            "grid_row": null,
            "max_height": null,
            "align_content": null,
            "visibility": null,
            "align_self": null,
            "height": null,
            "min_height": null,
            "padding": null,
            "grid_auto_rows": null,
            "grid_gap": null,
            "max_width": null,
            "order": null,
            "_view_module_version": "1.2.0",
            "grid_template_areas": null,
            "object_position": null,
            "object_fit": null,
            "grid_auto_columns": null,
            "margin": null,
            "display": null,
            "left": null
          },
          "model_module_version": "1.2.0"
        },
        "49c6beabc7fc4cf6a2080ece68fae3dd": {
          "model_module": "@jupyter-widgets/controls",
          "model_name": "HBoxModel",
          "state": {
            "_view_name": "HBoxView",
            "_dom_classes": [],
            "_model_name": "HBoxModel",
            "_view_module": "@jupyter-widgets/controls",
            "_model_module_version": "1.5.0",
            "_view_count": null,
            "_view_module_version": "1.5.0",
            "box_style": "",
            "layout": "IPY_MODEL_3d518b0fcedd45df92a98ac6c5833fba",
            "_model_module": "@jupyter-widgets/controls",
            "children": [
              "IPY_MODEL_20ac27e3015e42fea9008bf4d92ace72",
              "IPY_MODEL_a357309f7d13476fb9f982efab351521"
            ]
          },
          "model_module_version": "1.5.0"
        },
        "3d518b0fcedd45df92a98ac6c5833fba": {
          "model_module": "@jupyter-widgets/base",
          "model_name": "LayoutModel",
          "state": {
            "_view_name": "LayoutView",
            "grid_template_rows": null,
            "right": null,
            "justify_content": null,
            "_view_module": "@jupyter-widgets/base",
            "overflow": null,
            "_model_module_version": "1.2.0",
            "_view_count": null,
            "flex_flow": null,
            "width": null,
            "min_width": null,
            "border": null,
            "align_items": null,
            "bottom": null,
            "_model_module": "@jupyter-widgets/base",
            "top": null,
            "grid_column": null,
            "overflow_y": null,
            "overflow_x": null,
            "grid_auto_flow": null,
            "grid_area": null,
            "grid_template_columns": null,
            "flex": null,
            "_model_name": "LayoutModel",
            "justify_items": null,
            "grid_row": null,
            "max_height": null,
            "align_content": null,
            "visibility": null,
            "align_self": null,
            "height": null,
            "min_height": null,
            "padding": null,
            "grid_auto_rows": null,
            "grid_gap": null,
            "max_width": null,
            "order": null,
            "_view_module_version": "1.2.0",
            "grid_template_areas": null,
            "object_position": null,
            "object_fit": null,
            "grid_auto_columns": null,
            "margin": null,
            "display": null,
            "left": null
          },
          "model_module_version": "1.2.0"
        },
        "20ac27e3015e42fea9008bf4d92ace72": {
          "model_module": "@jupyter-widgets/controls",
          "model_name": "FloatProgressModel",
          "state": {
            "_view_name": "ProgressView",
            "style": "IPY_MODEL_5d96008172dd41c2a0c0000e117f4841",
            "_dom_classes": [],
            "description": "Downloading: 100%",
            "_model_name": "FloatProgressModel",
            "bar_style": "success",
            "max": 433,
            "_view_module": "@jupyter-widgets/controls",
            "_model_module_version": "1.5.0",
            "value": 433,
            "_view_count": null,
            "_view_module_version": "1.5.0",
            "orientation": "horizontal",
            "min": 0,
            "description_tooltip": null,
            "_model_module": "@jupyter-widgets/controls",
            "layout": "IPY_MODEL_e1bb7a40911e4e7893902be4d06b0697"
          },
          "model_module_version": "1.5.0"
        },
        "a357309f7d13476fb9f982efab351521": {
          "model_module": "@jupyter-widgets/controls",
          "model_name": "HTMLModel",
          "state": {
            "_view_name": "HTMLView",
            "style": "IPY_MODEL_62ba1961f0d942eeb03e3d7945fc408c",
            "_dom_classes": [],
            "description": "",
            "_model_name": "HTMLModel",
            "placeholder": "​",
            "_view_module": "@jupyter-widgets/controls",
            "_model_module_version": "1.5.0",
            "value": " 433/433 [00:00&lt;00:00, 2.43kB/s]",
            "_view_count": null,
            "_view_module_version": "1.5.0",
            "description_tooltip": null,
            "_model_module": "@jupyter-widgets/controls",
            "layout": "IPY_MODEL_8956ee4afcde42adb74b05148d836a54"
          },
          "model_module_version": "1.5.0"
        },
        "5d96008172dd41c2a0c0000e117f4841": {
          "model_module": "@jupyter-widgets/controls",
          "model_name": "ProgressStyleModel",
          "state": {
            "_view_name": "StyleView",
            "_model_name": "ProgressStyleModel",
            "description_width": "initial",
            "_view_module": "@jupyter-widgets/base",
            "_model_module_version": "1.5.0",
            "_view_count": null,
            "_view_module_version": "1.2.0",
            "bar_color": null,
            "_model_module": "@jupyter-widgets/controls"
          },
          "model_module_version": "1.5.0"
        },
        "e1bb7a40911e4e7893902be4d06b0697": {
          "model_module": "@jupyter-widgets/base",
          "model_name": "LayoutModel",
          "state": {
            "_view_name": "LayoutView",
            "grid_template_rows": null,
            "right": null,
            "justify_content": null,
            "_view_module": "@jupyter-widgets/base",
            "overflow": null,
            "_model_module_version": "1.2.0",
            "_view_count": null,
            "flex_flow": null,
            "width": null,
            "min_width": null,
            "border": null,
            "align_items": null,
            "bottom": null,
            "_model_module": "@jupyter-widgets/base",
            "top": null,
            "grid_column": null,
            "overflow_y": null,
            "overflow_x": null,
            "grid_auto_flow": null,
            "grid_area": null,
            "grid_template_columns": null,
            "flex": null,
            "_model_name": "LayoutModel",
            "justify_items": null,
            "grid_row": null,
            "max_height": null,
            "align_content": null,
            "visibility": null,
            "align_self": null,
            "height": null,
            "min_height": null,
            "padding": null,
            "grid_auto_rows": null,
            "grid_gap": null,
            "max_width": null,
            "order": null,
            "_view_module_version": "1.2.0",
            "grid_template_areas": null,
            "object_position": null,
            "object_fit": null,
            "grid_auto_columns": null,
            "margin": null,
            "display": null,
            "left": null
          },
          "model_module_version": "1.2.0"
        },
        "62ba1961f0d942eeb03e3d7945fc408c": {
          "model_module": "@jupyter-widgets/controls",
          "model_name": "DescriptionStyleModel",
          "state": {
            "_view_name": "StyleView",
            "_model_name": "DescriptionStyleModel",
            "description_width": "",
            "_view_module": "@jupyter-widgets/base",
            "_model_module_version": "1.5.0",
            "_view_count": null,
            "_view_module_version": "1.2.0",
            "_model_module": "@jupyter-widgets/controls"
          },
          "model_module_version": "1.5.0"
        },
        "8956ee4afcde42adb74b05148d836a54": {
          "model_module": "@jupyter-widgets/base",
          "model_name": "LayoutModel",
          "state": {
            "_view_name": "LayoutView",
            "grid_template_rows": null,
            "right": null,
            "justify_content": null,
            "_view_module": "@jupyter-widgets/base",
            "overflow": null,
            "_model_module_version": "1.2.0",
            "_view_count": null,
            "flex_flow": null,
            "width": null,
            "min_width": null,
            "border": null,
            "align_items": null,
            "bottom": null,
            "_model_module": "@jupyter-widgets/base",
            "top": null,
            "grid_column": null,
            "overflow_y": null,
            "overflow_x": null,
            "grid_auto_flow": null,
            "grid_area": null,
            "grid_template_columns": null,
            "flex": null,
            "_model_name": "LayoutModel",
            "justify_items": null,
            "grid_row": null,
            "max_height": null,
            "align_content": null,
            "visibility": null,
            "align_self": null,
            "height": null,
            "min_height": null,
            "padding": null,
            "grid_auto_rows": null,
            "grid_gap": null,
            "max_width": null,
            "order": null,
            "_view_module_version": "1.2.0",
            "grid_template_areas": null,
            "object_position": null,
            "object_fit": null,
            "grid_auto_columns": null,
            "margin": null,
            "display": null,
            "left": null
          },
          "model_module_version": "1.2.0"
        },
        "5fa55a44c25c47368b740337c8c99055": {
          "model_module": "@jupyter-widgets/controls",
          "model_name": "HBoxModel",
          "state": {
            "_view_name": "HBoxView",
            "_dom_classes": [],
            "_model_name": "HBoxModel",
            "_view_module": "@jupyter-widgets/controls",
            "_model_module_version": "1.5.0",
            "_view_count": null,
            "_view_module_version": "1.5.0",
            "box_style": "",
            "layout": "IPY_MODEL_7a913e9eb4a1455c98d2013158023a78",
            "_model_module": "@jupyter-widgets/controls",
            "children": [
              "IPY_MODEL_5e5c71cff72a468c80235ba063afeea2",
              "IPY_MODEL_9d4987c51aff4b0c819e9c87e378d944"
            ]
          },
          "model_module_version": "1.5.0"
        },
        "7a913e9eb4a1455c98d2013158023a78": {
          "model_module": "@jupyter-widgets/base",
          "model_name": "LayoutModel",
          "state": {
            "_view_name": "LayoutView",
            "grid_template_rows": null,
            "right": null,
            "justify_content": null,
            "_view_module": "@jupyter-widgets/base",
            "overflow": null,
            "_model_module_version": "1.2.0",
            "_view_count": null,
            "flex_flow": null,
            "width": null,
            "min_width": null,
            "border": null,
            "align_items": null,
            "bottom": null,
            "_model_module": "@jupyter-widgets/base",
            "top": null,
            "grid_column": null,
            "overflow_y": null,
            "overflow_x": null,
            "grid_auto_flow": null,
            "grid_area": null,
            "grid_template_columns": null,
            "flex": null,
            "_model_name": "LayoutModel",
            "justify_items": null,
            "grid_row": null,
            "max_height": null,
            "align_content": null,
            "visibility": null,
            "align_self": null,
            "height": null,
            "min_height": null,
            "padding": null,
            "grid_auto_rows": null,
            "grid_gap": null,
            "max_width": null,
            "order": null,
            "_view_module_version": "1.2.0",
            "grid_template_areas": null,
            "object_position": null,
            "object_fit": null,
            "grid_auto_columns": null,
            "margin": null,
            "display": null,
            "left": null
          },
          "model_module_version": "1.2.0"
        },
        "5e5c71cff72a468c80235ba063afeea2": {
          "model_module": "@jupyter-widgets/controls",
          "model_name": "FloatProgressModel",
          "state": {
            "_view_name": "ProgressView",
            "style": "IPY_MODEL_95f4641fe4af48c887840334c77ca439",
            "_dom_classes": [],
            "description": "Downloading: 100%",
            "_model_name": "FloatProgressModel",
            "bar_style": "success",
            "max": 440473133,
            "_view_module": "@jupyter-widgets/controls",
            "_model_module_version": "1.5.0",
            "value": 440473133,
            "_view_count": null,
            "_view_module_version": "1.5.0",
            "orientation": "horizontal",
            "min": 0,
            "description_tooltip": null,
            "_model_module": "@jupyter-widgets/controls",
            "layout": "IPY_MODEL_85ebe5cbbbf644668415b25869b90b92"
          },
          "model_module_version": "1.5.0"
        },
        "9d4987c51aff4b0c819e9c87e378d944": {
          "model_module": "@jupyter-widgets/controls",
          "model_name": "HTMLModel",
          "state": {
            "_view_name": "HTMLView",
            "style": "IPY_MODEL_99adb934eead4942ab20af85e6a103f1",
            "_dom_classes": [],
            "description": "",
            "_model_name": "HTMLModel",
            "placeholder": "​",
            "_view_module": "@jupyter-widgets/controls",
            "_model_module_version": "1.5.0",
            "value": " 440M/440M [00:08&lt;00:00, 51.6MB/s]",
            "_view_count": null,
            "_view_module_version": "1.5.0",
            "description_tooltip": null,
            "_model_module": "@jupyter-widgets/controls",
            "layout": "IPY_MODEL_0f0c2c4e23ae4c4db32a59f0a56ffd83"
          },
          "model_module_version": "1.5.0"
        },
        "95f4641fe4af48c887840334c77ca439": {
          "model_module": "@jupyter-widgets/controls",
          "model_name": "ProgressStyleModel",
          "state": {
            "_view_name": "StyleView",
            "_model_name": "ProgressStyleModel",
            "description_width": "initial",
            "_view_module": "@jupyter-widgets/base",
            "_model_module_version": "1.5.0",
            "_view_count": null,
            "_view_module_version": "1.2.0",
            "bar_color": null,
            "_model_module": "@jupyter-widgets/controls"
          },
          "model_module_version": "1.5.0"
        },
        "85ebe5cbbbf644668415b25869b90b92": {
          "model_module": "@jupyter-widgets/base",
          "model_name": "LayoutModel",
          "state": {
            "_view_name": "LayoutView",
            "grid_template_rows": null,
            "right": null,
            "justify_content": null,
            "_view_module": "@jupyter-widgets/base",
            "overflow": null,
            "_model_module_version": "1.2.0",
            "_view_count": null,
            "flex_flow": null,
            "width": null,
            "min_width": null,
            "border": null,
            "align_items": null,
            "bottom": null,
            "_model_module": "@jupyter-widgets/base",
            "top": null,
            "grid_column": null,
            "overflow_y": null,
            "overflow_x": null,
            "grid_auto_flow": null,
            "grid_area": null,
            "grid_template_columns": null,
            "flex": null,
            "_model_name": "LayoutModel",
            "justify_items": null,
            "grid_row": null,
            "max_height": null,
            "align_content": null,
            "visibility": null,
            "align_self": null,
            "height": null,
            "min_height": null,
            "padding": null,
            "grid_auto_rows": null,
            "grid_gap": null,
            "max_width": null,
            "order": null,
            "_view_module_version": "1.2.0",
            "grid_template_areas": null,
            "object_position": null,
            "object_fit": null,
            "grid_auto_columns": null,
            "margin": null,
            "display": null,
            "left": null
          },
          "model_module_version": "1.2.0"
        },
        "99adb934eead4942ab20af85e6a103f1": {
          "model_module": "@jupyter-widgets/controls",
          "model_name": "DescriptionStyleModel",
          "state": {
            "_view_name": "StyleView",
            "_model_name": "DescriptionStyleModel",
            "description_width": "",
            "_view_module": "@jupyter-widgets/base",
            "_model_module_version": "1.5.0",
            "_view_count": null,
            "_view_module_version": "1.2.0",
            "_model_module": "@jupyter-widgets/controls"
          },
          "model_module_version": "1.5.0"
        },
        "0f0c2c4e23ae4c4db32a59f0a56ffd83": {
          "model_module": "@jupyter-widgets/base",
          "model_name": "LayoutModel",
          "state": {
            "_view_name": "LayoutView",
            "grid_template_rows": null,
            "right": null,
            "justify_content": null,
            "_view_module": "@jupyter-widgets/base",
            "overflow": null,
            "_model_module_version": "1.2.0",
            "_view_count": null,
            "flex_flow": null,
            "width": null,
            "min_width": null,
            "border": null,
            "align_items": null,
            "bottom": null,
            "_model_module": "@jupyter-widgets/base",
            "top": null,
            "grid_column": null,
            "overflow_y": null,
            "overflow_x": null,
            "grid_auto_flow": null,
            "grid_area": null,
            "grid_template_columns": null,
            "flex": null,
            "_model_name": "LayoutModel",
            "justify_items": null,
            "grid_row": null,
            "max_height": null,
            "align_content": null,
            "visibility": null,
            "align_self": null,
            "height": null,
            "min_height": null,
            "padding": null,
            "grid_auto_rows": null,
            "grid_gap": null,
            "max_width": null,
            "order": null,
            "_view_module_version": "1.2.0",
            "grid_template_areas": null,
            "object_position": null,
            "object_fit": null,
            "grid_auto_columns": null,
            "margin": null,
            "display": null,
            "left": null
          },
          "model_module_version": "1.2.0"
        }
      }
    }
  },
  "cells": [
    {
      "cell_type": "markdown",
      "metadata": {
        "id": "view-in-github",
        "colab_type": "text"
      },
      "source": [
        "<a href=\"https://colab.research.google.com/github/ClaudinusT/Speech-Recognition/blob/main/HateSpeech_Model_SourceCode_2201730740.ipynb\" target=\"_parent\"><img src=\"https://colab.research.google.com/assets/colab-badge.svg\" alt=\"Open In Colab\"/></a>"
      ]
    },
    {
      "cell_type": "markdown",
      "metadata": {
        "id": "VcKB8wDUppUm"
      },
      "source": [
        "# NAME: Tonto Claudinus\n",
        "# NIM: 2201730740\n",
        "# CLASS: LA01\n",
        "# Code - Course : COM6588 – Information Retrieval\n",
        "# FINAL EXAM - Information Retrieval (HATE SPEECH MODEL)"
      ]
    },
    {
      "cell_type": "markdown",
      "metadata": {
        "id": "KeboZyaaxiKj"
      },
      "source": [
        "### *note: \n",
        "### 1. Jika ingin melakukan training ulang, saya anjurkan untuk menggunakan google colab dengan runtime type menggunakan GPU untuk proses training yang lebih cepat.\n",
        "\n",
        "### 2. Untuk analisa dari cross-inferencing dijelaskan pada column terakhir dari source code ini"
      ]
    },
    {
      "cell_type": "code",
      "metadata": {
        "colab": {
          "base_uri": "https://localhost:8080/"
        },
        "id": "MfFXji8BIx_f",
        "outputId": "c7938acc-0f40-414a-de6c-7cb26ec1cad5"
      },
      "source": [
        "!pip install Sastrawi"
      ],
      "execution_count": null,
      "outputs": [
        {
          "output_type": "stream",
          "text": [
            "Requirement already satisfied: Sastrawi in /usr/local/lib/python3.6/dist-packages (1.0.1)\n"
          ],
          "name": "stdout"
        }
      ]
    },
    {
      "cell_type": "code",
      "metadata": {
        "colab": {
          "base_uri": "https://localhost:8080/"
        },
        "id": "6kPFefhhJB1f",
        "outputId": "89349208-d770-4722-c5b6-e24f11c83d05"
      },
      "source": [
        "!pip install transformers"
      ],
      "execution_count": null,
      "outputs": [
        {
          "output_type": "stream",
          "text": [
            "Requirement already satisfied: transformers in /usr/local/lib/python3.6/dist-packages (4.3.2)\n",
            "Requirement already satisfied: requests in /usr/local/lib/python3.6/dist-packages (from transformers) (2.23.0)\n",
            "Requirement already satisfied: tokenizers<0.11,>=0.10.1 in /usr/local/lib/python3.6/dist-packages (from transformers) (0.10.1)\n",
            "Requirement already satisfied: dataclasses; python_version < \"3.7\" in /usr/local/lib/python3.6/dist-packages (from transformers) (0.8)\n",
            "Requirement already satisfied: filelock in /usr/local/lib/python3.6/dist-packages (from transformers) (3.0.12)\n",
            "Requirement already satisfied: tqdm>=4.27 in /usr/local/lib/python3.6/dist-packages (from transformers) (4.41.1)\n",
            "Requirement already satisfied: numpy>=1.17 in /usr/local/lib/python3.6/dist-packages (from transformers) (1.19.5)\n",
            "Requirement already satisfied: importlib-metadata; python_version < \"3.8\" in /usr/local/lib/python3.6/dist-packages (from transformers) (3.4.0)\n",
            "Requirement already satisfied: sacremoses in /usr/local/lib/python3.6/dist-packages (from transformers) (0.0.43)\n",
            "Requirement already satisfied: packaging in /usr/local/lib/python3.6/dist-packages (from transformers) (20.9)\n",
            "Requirement already satisfied: regex!=2019.12.17 in /usr/local/lib/python3.6/dist-packages (from transformers) (2019.12.20)\n",
            "Requirement already satisfied: chardet<4,>=3.0.2 in /usr/local/lib/python3.6/dist-packages (from requests->transformers) (3.0.4)\n",
            "Requirement already satisfied: certifi>=2017.4.17 in /usr/local/lib/python3.6/dist-packages (from requests->transformers) (2020.12.5)\n",
            "Requirement already satisfied: idna<3,>=2.5 in /usr/local/lib/python3.6/dist-packages (from requests->transformers) (2.10)\n",
            "Requirement already satisfied: urllib3!=1.25.0,!=1.25.1,<1.26,>=1.21.1 in /usr/local/lib/python3.6/dist-packages (from requests->transformers) (1.24.3)\n",
            "Requirement already satisfied: zipp>=0.5 in /usr/local/lib/python3.6/dist-packages (from importlib-metadata; python_version < \"3.8\"->transformers) (3.4.0)\n",
            "Requirement already satisfied: typing-extensions>=3.6.4; python_version < \"3.8\" in /usr/local/lib/python3.6/dist-packages (from importlib-metadata; python_version < \"3.8\"->transformers) (3.7.4.3)\n",
            "Requirement already satisfied: joblib in /usr/local/lib/python3.6/dist-packages (from sacremoses->transformers) (1.0.0)\n",
            "Requirement already satisfied: six in /usr/local/lib/python3.6/dist-packages (from sacremoses->transformers) (1.15.0)\n",
            "Requirement already satisfied: click in /usr/local/lib/python3.6/dist-packages (from sacremoses->transformers) (7.1.2)\n",
            "Requirement already satisfied: pyparsing>=2.0.2 in /usr/local/lib/python3.6/dist-packages (from packaging->transformers) (2.4.7)\n"
          ],
          "name": "stdout"
        }
      ]
    },
    {
      "cell_type": "code",
      "metadata": {
        "id": "USA6VE0RIeHz"
      },
      "source": [
        "import pandas as pd\n",
        "import numpy as np\n",
        "from nltk.tokenize import word_tokenize\n",
        "from nltk.corpus import stopwords\n",
        "import re\n",
        "import string\n",
        "from collections import Counter\n",
        "from nltk.stem import PorterStemmer\n",
        "from Sastrawi.Stemmer.StemmerFactory import StemmerFactory\n",
        "from Sastrawi.StopWordRemover.StopWordRemoverFactory import StopWordRemoverFactory\n",
        "import matplotlib.pyplot as plt\n",
        "import pandas as pd\n",
        "import torch\n",
        "from torchtext.data import Field, TabularDataset, BucketIterator, Iterator\n",
        "import torch.nn as nn\n",
        "from transformers import BertTokenizer, BertForSequenceClassification\n",
        "import torch.optim as optim\n",
        "from sklearn.metrics import accuracy_score, f1_score, classification_report, confusion_matrix\n",
        "from sklearn.model_selection import train_test_split\n",
        "\n",
        "from torch import nn, optim\n",
        "from torch.utils.data import Dataset, DataLoader\n",
        "import torch.nn.functional as F\n",
        "\n",
        "import transformers\n",
        "from transformers import BertModel, BertTokenizer, AdamW, get_linear_schedule_with_warmup\n",
        "import torch"
      ],
      "execution_count": null,
      "outputs": []
    },
    {
      "cell_type": "markdown",
      "metadata": {
        "id": "lBSq5Evj04P6"
      },
      "source": [
        "## Speech Classification with Hate Speech Dataset"
      ]
    },
    {
      "cell_type": "markdown",
      "metadata": {
        "id": "hrLVUO1qqAlY"
      },
      "source": [
        "## Load Dataset Hate Speech Dataset"
      ]
    },
    {
      "cell_type": "code",
      "metadata": {
        "colab": {
          "base_uri": "https://localhost:8080/",
          "height": 249
        },
        "id": "4tsDtTundouf",
        "outputId": "1d64509d-d9a1-4404-e6ac-7600e4e56f10"
      },
      "source": [
        "# load dataset\n",
        "dataset = pd.read_csv('hatespeech.txt', sep='\\t+')\n",
        "\n",
        "text = dataset['Tweet']\n",
        "dataset['Label'] = (dataset['Label'] == 'Non_HS').astype('int')\n",
        "\n",
        "dataset.head()"
      ],
      "execution_count": null,
      "outputs": [
        {
          "output_type": "stream",
          "text": [
            "/usr/local/lib/python3.6/dist-packages/ipykernel_launcher.py:2: ParserWarning: Falling back to the 'python' engine because the 'c' engine does not support regex separators (separators > 1 char and different from '\\s+' are interpreted as regex); you can avoid this warning by specifying engine='python'.\n",
            "  \n"
          ],
          "name": "stderr"
        },
        {
          "output_type": "execute_result",
          "data": {
            "text/html": [
              "<div>\n",
              "<style scoped>\n",
              "    .dataframe tbody tr th:only-of-type {\n",
              "        vertical-align: middle;\n",
              "    }\n",
              "\n",
              "    .dataframe tbody tr th {\n",
              "        vertical-align: top;\n",
              "    }\n",
              "\n",
              "    .dataframe thead th {\n",
              "        text-align: right;\n",
              "    }\n",
              "</style>\n",
              "<table border=\"1\" class=\"dataframe\">\n",
              "  <thead>\n",
              "    <tr style=\"text-align: right;\">\n",
              "      <th></th>\n",
              "      <th>Label</th>\n",
              "      <th>Tweet</th>\n",
              "    </tr>\n",
              "  </thead>\n",
              "  <tbody>\n",
              "    <tr>\n",
              "      <th>0</th>\n",
              "      <td>1</td>\n",
              "      <td>RT @spardaxyz: Fadli Zon Minta Mendagri Segera...</td>\n",
              "    </tr>\n",
              "    <tr>\n",
              "      <th>1</th>\n",
              "      <td>1</td>\n",
              "      <td>RT @baguscondromowo: Mereka terus melukai aksi...</td>\n",
              "    </tr>\n",
              "    <tr>\n",
              "      <th>2</th>\n",
              "      <td>1</td>\n",
              "      <td>Sylvi: bagaimana gurbernur melakukan kekerasan...</td>\n",
              "    </tr>\n",
              "    <tr>\n",
              "      <th>3</th>\n",
              "      <td>1</td>\n",
              "      <td>\"Ahmad Dhani Tak Puas Debat Pilkada, Masalah J...</td>\n",
              "    </tr>\n",
              "    <tr>\n",
              "      <th>4</th>\n",
              "      <td>1</td>\n",
              "      <td>RT @lisdaulay28: Waspada KTP palsu.....kawal P...</td>\n",
              "    </tr>\n",
              "  </tbody>\n",
              "</table>\n",
              "</div>"
            ],
            "text/plain": [
              "   Label                                              Tweet\n",
              "0      1  RT @spardaxyz: Fadli Zon Minta Mendagri Segera...\n",
              "1      1  RT @baguscondromowo: Mereka terus melukai aksi...\n",
              "2      1  Sylvi: bagaimana gurbernur melakukan kekerasan...\n",
              "3      1  \"Ahmad Dhani Tak Puas Debat Pilkada, Masalah J...\n",
              "4      1  RT @lisdaulay28: Waspada KTP palsu.....kawal P..."
            ]
          },
          "metadata": {
            "tags": []
          },
          "execution_count": 4
        }
      ]
    },
    {
      "cell_type": "markdown",
      "metadata": {
        "id": "usYEth75qLeG"
      },
      "source": [
        "## Text Pre-Processing"
      ]
    },
    {
      "cell_type": "code",
      "metadata": {
        "id": "esVXauNrito8"
      },
      "source": [
        "def SpeechPreprocess(phrase):\n",
        "    \n",
        "    # Remove Indonesian stopwords\n",
        "    factory = StopWordRemoverFactory()\n",
        "    stopword = factory.create_stop_word_remover()\n",
        "    stop = stopword.remove(phrase)\n",
        "\n",
        "    # Remove punctuation in the sentences and case-folding(lower all capital Latter)\n",
        "    phrase = stop.translate(str.maketrans('','',string.punctuation)).lower()\n",
        "\n",
        "    # remove number\n",
        "    phrase = re.sub(r\"\\d+\", \"\", phrase)\n",
        "\n",
        "    #remove whitespace\n",
        "    phrase = phrase.strip()\n",
        "    \n",
        "    return phrase"
      ],
      "execution_count": null,
      "outputs": []
    },
    {
      "cell_type": "code",
      "metadata": {
        "colab": {
          "base_uri": "https://localhost:8080/",
          "height": 195
        },
        "id": "NR3wFBSXJS0q",
        "outputId": "843b0136-f3b1-4c4d-c914-4f25ed7e9e91"
      },
      "source": [
        "new_txt = text.apply(SpeechPreprocess)\n",
        "\n",
        "dataset['Tweet'] = new_txt.copy()\n",
        "\n",
        "dataset.head()   "
      ],
      "execution_count": null,
      "outputs": [
        {
          "output_type": "execute_result",
          "data": {
            "text/html": [
              "<div>\n",
              "<style scoped>\n",
              "    .dataframe tbody tr th:only-of-type {\n",
              "        vertical-align: middle;\n",
              "    }\n",
              "\n",
              "    .dataframe tbody tr th {\n",
              "        vertical-align: top;\n",
              "    }\n",
              "\n",
              "    .dataframe thead th {\n",
              "        text-align: right;\n",
              "    }\n",
              "</style>\n",
              "<table border=\"1\" class=\"dataframe\">\n",
              "  <thead>\n",
              "    <tr style=\"text-align: right;\">\n",
              "      <th></th>\n",
              "      <th>Label</th>\n",
              "      <th>Tweet</th>\n",
              "    </tr>\n",
              "  </thead>\n",
              "  <tbody>\n",
              "    <tr>\n",
              "      <th>0</th>\n",
              "      <td>1</td>\n",
              "      <td>rt spardaxyz fadli zon minta mendagri segera m...</td>\n",
              "    </tr>\n",
              "    <tr>\n",
              "      <th>1</th>\n",
              "      <td>1</td>\n",
              "      <td>rt baguscondromowo mereka terus melukai aksi r...</td>\n",
              "    </tr>\n",
              "    <tr>\n",
              "      <th>2</th>\n",
              "      <td>1</td>\n",
              "      <td>sylvi bagaimana gurbernur melakukan kekerasan ...</td>\n",
              "    </tr>\n",
              "    <tr>\n",
              "      <th>3</th>\n",
              "      <td>1</td>\n",
              "      <td>ahmad dhani tak puas debat pilkada masalah jal...</td>\n",
              "    </tr>\n",
              "    <tr>\n",
              "      <th>4</th>\n",
              "      <td>1</td>\n",
              "      <td>rt lisdaulay waspada ktp palsukawal pilkada ht...</td>\n",
              "    </tr>\n",
              "  </tbody>\n",
              "</table>\n",
              "</div>"
            ],
            "text/plain": [
              "   Label                                              Tweet\n",
              "0      1  rt spardaxyz fadli zon minta mendagri segera m...\n",
              "1      1  rt baguscondromowo mereka terus melukai aksi r...\n",
              "2      1  sylvi bagaimana gurbernur melakukan kekerasan ...\n",
              "3      1  ahmad dhani tak puas debat pilkada masalah jal...\n",
              "4      1  rt lisdaulay waspada ktp palsukawal pilkada ht..."
            ]
          },
          "metadata": {
            "tags": []
          },
          "execution_count": 6
        }
      ]
    },
    {
      "cell_type": "code",
      "metadata": {
        "id": "XyqiYawGb07j"
      },
      "source": [
        "source_folder = './'\n",
        "destination_folder = './'\n",
        "\n",
        "# Split according to label\n",
        "df_hs = dataset[dataset['Label'] == 0]\n",
        "df_non = dataset[dataset['Label'] == 1]\n",
        "\n",
        "# Train-test split\n",
        "df_hs_full_train, df_hs_test = train_test_split(df_hs, train_size = 0.8, random_state = 1)\n",
        "df_non_full_train, df_non_test = train_test_split(df_non, train_size = 0.8, random_state = 1)\n",
        "\n",
        "# Train-valid split\n",
        "df_hs_train, df_hs_valid = train_test_split(df_hs_full_train, train_size = 0.8, random_state = 1)\n",
        "df_non_train, df_non_valid = train_test_split(df_non_full_train, train_size = 0.8, random_state = 1)\n",
        "\n",
        "# Concatenate splits of different labels\n",
        "df_train = pd.concat([df_hs_train, df_non_train], ignore_index=True, sort=False)\n",
        "df_valid = pd.concat([df_hs_valid, df_non_valid], ignore_index=True, sort=False)\n",
        "df_test = pd.concat([df_hs_test, df_non_test], ignore_index=True, sort=False)\n",
        "\n",
        "# Write preprocessed data\n",
        "df_train.to_csv(destination_folder + '/train.csv', index=False)\n",
        "df_valid.to_csv(destination_folder + '/valid.csv', index=False)\n",
        "df_test.to_csv(destination_folder + '/test.csv', index=False)"
      ],
      "execution_count": null,
      "outputs": []
    },
    {
      "cell_type": "code",
      "metadata": {
        "colab": {
          "base_uri": "https://localhost:8080/"
        },
        "id": "vmVkr0Bkb09m",
        "outputId": "24177e05-d4cb-4312-d0b5-1141b4cb69af"
      },
      "source": [
        "device = torch.device('cuda:0' if torch.cuda.is_available() else 'cpu')\n",
        "print(device)"
      ],
      "execution_count": null,
      "outputs": [
        {
          "output_type": "stream",
          "text": [
            "cuda:0\n"
          ],
          "name": "stdout"
        }
      ]
    },
    {
      "cell_type": "code",
      "metadata": {
        "colab": {
          "base_uri": "https://localhost:8080/"
        },
        "id": "D1TusvOrn-7K",
        "outputId": "f0a4f466-d2f3-4e62-9f48-76a7b2205e66"
      },
      "source": [
        "print(df_train.shape)\n",
        "print(df_valid.shape)\n",
        "print(df_test.shape)"
      ],
      "execution_count": null,
      "outputs": [
        {
          "output_type": "stream",
          "text": [
            "(963, 2)\n",
            "(241, 2)\n",
            "(302, 2)\n"
          ],
          "name": "stdout"
        }
      ]
    },
    {
      "cell_type": "markdown",
      "metadata": {
        "id": "V5ps0yQiqTJ0"
      },
      "source": [
        "## Tokenizing and Load Splitted Dataframe"
      ]
    },
    {
      "cell_type": "code",
      "metadata": {
        "colab": {
          "base_uri": "https://localhost:8080/",
          "height": 66,
          "referenced_widgets": [
            "4f34478db9a541bb961b4fa89781357e",
            "365cd5f82ebb4e1fa8695e7e77b2a1bc",
            "b5a8184a4761401b8770a932adb820ec",
            "423426bb821c44f9b088e63f6d02ed1f",
            "5749f4688aae40cca9affc9eb1b41696",
            "ca69cce1cf5b4a06b649dd7a8c3d5a8d",
            "551dd8a45e15431ea79f917b5fbc1229",
            "02e8a27170c542fc8f25e1f664ac170c"
          ]
        },
        "id": "kAlukj3ob0_y",
        "outputId": "6ae44cbc-af2d-43e6-cab7-764de3dc3f4b"
      },
      "source": [
        "torch.manual_seed(1234)\n",
        "\n",
        "# Model parameter\n",
        "MAX_SEQ_LEN = 128\n",
        "\n",
        "# defining the tokenizer\n",
        "tokenizer = BertTokenizer.from_pretrained('bert-base-uncased')\n",
        "PAD_INDEX = tokenizer.convert_tokens_to_ids(tokenizer.pad_token)\n",
        "UNK_INDEX = tokenizer.convert_tokens_to_ids(tokenizer.unk_token)\n",
        "\n",
        "# Fields\n",
        "label_field = Field(sequential=False, use_vocab=False, batch_first=True, dtype=torch.float)\n",
        "text_field = Field(use_vocab=False, tokenize=tokenizer.encode, lower=False, include_lengths=False, batch_first=True,\n",
        "                   fix_length=MAX_SEQ_LEN, pad_token=PAD_INDEX, unk_token=UNK_INDEX)\n",
        "fields = [('Label', label_field), ('Tweet', text_field)]\n",
        "\n",
        "# TabularDataset\n",
        "\n",
        "train, valid, test = TabularDataset.splits(path=source_folder, train='train.csv', validation='valid.csv',\n",
        "                                           test='test.csv', format='CSV', fields=fields, skip_header=True)\n",
        "\n",
        "# Iterate the dataset\n",
        "\n",
        "train_loader = BucketIterator(train, batch_size=16, sort_key=lambda x: len(x.Tweet),\n",
        "                            device=device, train=True, sort=True, sort_within_batch=True)\n",
        "valid_loader = BucketIterator(valid, batch_size=16, sort_key=lambda x: len(x.Tweet),\n",
        "                            device=device, train=True, sort=True, sort_within_batch=True)\n",
        "test_loader = Iterator(test, batch_size=16, device=device, train=False, shuffle=False, sort=False)"
      ],
      "execution_count": null,
      "outputs": [
        {
          "output_type": "display_data",
          "data": {
            "application/vnd.jupyter.widget-view+json": {
              "model_id": "4f34478db9a541bb961b4fa89781357e",
              "version_minor": 0,
              "version_major": 2
            },
            "text/plain": [
              "HBox(children=(FloatProgress(value=0.0, description='Downloading', max=231508.0, style=ProgressStyle(descripti…"
            ]
          },
          "metadata": {
            "tags": []
          }
        },
        {
          "output_type": "stream",
          "text": [
            "\n"
          ],
          "name": "stdout"
        }
      ]
    },
    {
      "cell_type": "markdown",
      "metadata": {
        "id": "c6OwRcfwqdwp"
      },
      "source": [
        "## Define Pre-Trained BERT Model"
      ]
    },
    {
      "cell_type": "code",
      "metadata": {
        "id": "5OGJsu1ccCN4"
      },
      "source": [
        "class BERT(nn.Module):\n",
        "\n",
        "    def __init__(self):\n",
        "        super(BERT, self).__init__()\n",
        "\n",
        "        self.encoder = BertForSequenceClassification.from_pretrained(\"bert-base-uncased\")\n",
        "\n",
        "    def forward(self, text, label):\n",
        "        loss, text_fea = self.encoder(text, labels=label)[:2]\n",
        "\n",
        "        return loss, text_fea"
      ],
      "execution_count": null,
      "outputs": []
    },
    {
      "cell_type": "code",
      "metadata": {
        "id": "0XizLugtcCQF"
      },
      "source": [
        "# Save and Load Functions\n",
        "\n",
        "def save_checkpoint(save_path, model, valid_loss):\n",
        "\n",
        "    if save_path == None:\n",
        "        return\n",
        "    \n",
        "    state_dict = {'model_state_dict': model.state_dict(),\n",
        "                  'valid_loss': valid_loss}\n",
        "    \n",
        "    torch.save(state_dict, save_path)\n",
        "    print(f'Model saved to ==> {save_path}')\n",
        "\n",
        "def load_checkpoint(load_path, model):\n",
        "    \n",
        "    if load_path==None:\n",
        "        return\n",
        "    \n",
        "    state_dict = torch.load(load_path, map_location=device)\n",
        "    print(f'Model loaded from <== {load_path}')\n",
        "    \n",
        "    model.load_state_dict(state_dict['model_state_dict'])\n",
        "    return state_dict['valid_loss']\n",
        "\n",
        "\n",
        "def save_metrics(save_path, train_loss_list, valid_loss_list, global_steps_list):\n",
        "\n",
        "    if save_path == None:\n",
        "        return\n",
        "    \n",
        "    state_dict = {'train_loss_list': train_loss_list,\n",
        "                  'valid_loss_list': valid_loss_list,\n",
        "                  'global_steps_list': global_steps_list}\n",
        "    \n",
        "    torch.save(state_dict, save_path)\n",
        "    print(f'Model saved to ==> {save_path}')\n",
        "\n",
        "\n",
        "def load_metrics(load_path):\n",
        "\n",
        "    if load_path==None:\n",
        "        return\n",
        "    \n",
        "    state_dict = torch.load(load_path, map_location=device)\n",
        "    print(f'Model loaded from <== {load_path}')\n",
        "    \n",
        "    return state_dict['train_loss_list'], state_dict['valid_loss_list'], state_dict['global_steps_list']"
      ],
      "execution_count": null,
      "outputs": []
    },
    {
      "cell_type": "markdown",
      "metadata": {
        "id": "_965D2HSqiOh"
      },
      "source": [
        "## Train Model"
      ]
    },
    {
      "cell_type": "code",
      "metadata": {
        "colab": {
          "base_uri": "https://localhost:8080/",
          "height": 218,
          "referenced_widgets": [
            "49c6beabc7fc4cf6a2080ece68fae3dd",
            "3d518b0fcedd45df92a98ac6c5833fba",
            "20ac27e3015e42fea9008bf4d92ace72",
            "a357309f7d13476fb9f982efab351521",
            "5d96008172dd41c2a0c0000e117f4841",
            "e1bb7a40911e4e7893902be4d06b0697",
            "62ba1961f0d942eeb03e3d7945fc408c",
            "8956ee4afcde42adb74b05148d836a54",
            "5fa55a44c25c47368b740337c8c99055",
            "7a913e9eb4a1455c98d2013158023a78",
            "5e5c71cff72a468c80235ba063afeea2",
            "9d4987c51aff4b0c819e9c87e378d944",
            "95f4641fe4af48c887840334c77ca439",
            "85ebe5cbbbf644668415b25869b90b92",
            "99adb934eead4942ab20af85e6a103f1",
            "0f0c2c4e23ae4c4db32a59f0a56ffd83"
          ]
        },
        "id": "lJeJUSYgcCSr",
        "outputId": "3414e142-6446-4f78-c93b-5771bc1f3751"
      },
      "source": [
        "model = BERT().to(device)\n",
        "optimizer = optim.Adam(model.parameters(), lr=2e-5)\n",
        "criterion = nn.CrossEntropyLoss()"
      ],
      "execution_count": null,
      "outputs": [
        {
          "output_type": "display_data",
          "data": {
            "application/vnd.jupyter.widget-view+json": {
              "model_id": "49c6beabc7fc4cf6a2080ece68fae3dd",
              "version_minor": 0,
              "version_major": 2
            },
            "text/plain": [
              "HBox(children=(FloatProgress(value=0.0, description='Downloading', max=433.0, style=ProgressStyle(description_…"
            ]
          },
          "metadata": {
            "tags": []
          }
        },
        {
          "output_type": "stream",
          "text": [
            "\n"
          ],
          "name": "stdout"
        },
        {
          "output_type": "display_data",
          "data": {
            "application/vnd.jupyter.widget-view+json": {
              "model_id": "5fa55a44c25c47368b740337c8c99055",
              "version_minor": 0,
              "version_major": 2
            },
            "text/plain": [
              "HBox(children=(FloatProgress(value=0.0, description='Downloading', max=440473133.0, style=ProgressStyle(descri…"
            ]
          },
          "metadata": {
            "tags": []
          }
        },
        {
          "output_type": "stream",
          "text": [
            "\n"
          ],
          "name": "stdout"
        },
        {
          "output_type": "stream",
          "text": [
            "Some weights of the model checkpoint at bert-base-uncased were not used when initializing BertForSequenceClassification: ['cls.predictions.bias', 'cls.predictions.transform.dense.weight', 'cls.predictions.transform.dense.bias', 'cls.predictions.decoder.weight', 'cls.seq_relationship.weight', 'cls.seq_relationship.bias', 'cls.predictions.transform.LayerNorm.weight', 'cls.predictions.transform.LayerNorm.bias']\n",
            "- This IS expected if you are initializing BertForSequenceClassification from the checkpoint of a model trained on another task or with another architecture (e.g. initializing a BertForSequenceClassification model from a BertForPreTraining model).\n",
            "- This IS NOT expected if you are initializing BertForSequenceClassification from the checkpoint of a model that you expect to be exactly identical (initializing a BertForSequenceClassification model from a BertForSequenceClassification model).\n",
            "Some weights of BertForSequenceClassification were not initialized from the model checkpoint at bert-base-uncased and are newly initialized: ['classifier.weight', 'classifier.bias']\n",
            "You should probably TRAIN this model on a down-stream task to be able to use it for predictions and inference.\n"
          ],
          "name": "stderr"
        }
      ]
    },
    {
      "cell_type": "code",
      "metadata": {
        "colab": {
          "base_uri": "https://localhost:8080/"
        },
        "id": "j5lf8UPhcCUT",
        "outputId": "52174430-3bcd-4245-a50a-4355bc3b5e90"
      },
      "source": [
        "num_epochs = 5\n",
        "eval_every = len(train_loader) // 2\n",
        "file_path = destination_folder\n",
        "best_valid_loss = float(\"Inf\")\n",
        "\n",
        "# initialize running values\n",
        "running_loss = 0.0\n",
        "valid_running_loss = 0.0\n",
        "global_step = 0\n",
        "train_loss_list = []\n",
        "valid_loss_list = []\n",
        "global_steps_list = []\n",
        "\n",
        "# training loop\n",
        "model.train()\n",
        "for epoch in range(num_epochs):\n",
        "    for (Label, Tweet), _ in train_loader:\n",
        "        Label = Label.type(torch.LongTensor)           \n",
        "        Label = Label.to(device)\n",
        "        Tweet = Tweet.type(torch.LongTensor)  \n",
        "        Tweet = Tweet.to(device)\n",
        "        output = model(Tweet, Label)\n",
        "        loss, _ = output\n",
        "\n",
        "        optimizer.zero_grad()\n",
        "        loss.backward()\n",
        "        optimizer.step()\n",
        "\n",
        "        # update running values\n",
        "        running_loss += loss.item()\n",
        "        global_step += 1\n",
        "\n",
        "        # evaluation step\n",
        "        if global_step % eval_every == 0:\n",
        "            model.eval()\n",
        "            with torch.no_grad():                    \n",
        "\n",
        "                # validation loop\n",
        "                for (Label, Tweet), _ in valid_loader:\n",
        "                    Label = Label.type(torch.LongTensor)           \n",
        "                    Label = Label.to(device)\n",
        "                    Tweet = Tweet.type(torch.LongTensor)  \n",
        "                    Tweet = Tweet.to(device)\n",
        "                    output = model(Tweet, Label)\n",
        "                    loss, _ = output\n",
        "                    \n",
        "                    valid_running_loss += loss.item()\n",
        "\n",
        "            # evaluation\n",
        "            average_train_loss = running_loss / eval_every\n",
        "            average_valid_loss = valid_running_loss / len(valid_loader)\n",
        "            train_loss_list.append(average_train_loss)\n",
        "            valid_loss_list.append(average_valid_loss)\n",
        "            global_steps_list.append(global_step)\n",
        "\n",
        "            # resetting running values\n",
        "            running_loss = 0.0                \n",
        "            valid_running_loss = 0.0\n",
        "            model.train()\n",
        "\n",
        "            # print progress\n",
        "            print('Epoch [{}/{}], Step [{}/{}], Train Loss: {:.4f}, Valid Loss: {:.4f}'\n",
        "                  .format(epoch+1, num_epochs, global_step, num_epochs*len(train_loader),\n",
        "                          average_train_loss, average_valid_loss))\n",
        "            \n",
        "            # checkpoint\n",
        "            if best_valid_loss > average_valid_loss:\n",
        "                best_valid_loss = average_valid_loss\n",
        "                save_checkpoint(file_path + '/' + 'model.pt', model, best_valid_loss)\n",
        "                save_metrics(file_path + '/' + 'metrics.pt', train_loss_list, valid_loss_list, global_steps_list)\n",
        "\n",
        "save_metrics(file_path + '/' + 'metrics.pt', train_loss_list, valid_loss_list, global_steps_list)\n",
        "print('Finished Training!')"
      ],
      "execution_count": null,
      "outputs": [
        {
          "output_type": "stream",
          "text": [
            "Epoch [1/5], Step [14/145], Train Loss: 0.6386, Valid Loss: 0.7111\n",
            "Model saved to ==> .//model.pt\n",
            "Model saved to ==> .//metrics.pt\n",
            "Epoch [1/5], Step [28/145], Train Loss: 0.6755, Valid Loss: 0.6796\n",
            "Model saved to ==> .//model.pt\n",
            "Model saved to ==> .//metrics.pt\n",
            "Epoch [2/5], Step [42/145], Train Loss: 0.6509, Valid Loss: 0.7203\n",
            "Epoch [2/5], Step [56/145], Train Loss: 0.6663, Valid Loss: 0.6624\n",
            "Model saved to ==> .//model.pt\n",
            "Model saved to ==> .//metrics.pt\n",
            "Epoch [3/5], Step [70/145], Train Loss: 0.5794, Valid Loss: 0.6124\n",
            "Model saved to ==> .//model.pt\n",
            "Model saved to ==> .//metrics.pt\n",
            "Epoch [3/5], Step [84/145], Train Loss: 0.6784, Valid Loss: 0.6727\n",
            "Epoch [4/5], Step [98/145], Train Loss: 0.5059, Valid Loss: 0.5220\n",
            "Model saved to ==> .//model.pt\n",
            "Model saved to ==> .//metrics.pt\n",
            "Epoch [4/5], Step [112/145], Train Loss: 0.5025, Valid Loss: 0.4890\n",
            "Model saved to ==> .//model.pt\n",
            "Model saved to ==> .//metrics.pt\n",
            "Epoch [5/5], Step [126/145], Train Loss: 0.4282, Valid Loss: 0.4508\n",
            "Model saved to ==> .//model.pt\n",
            "Model saved to ==> .//metrics.pt\n",
            "Epoch [5/5], Step [140/145], Train Loss: 0.3090, Valid Loss: 0.4222\n",
            "Model saved to ==> .//model.pt\n",
            "Model saved to ==> .//metrics.pt\n",
            "Model saved to ==> .//metrics.pt\n",
            "Finished Training!\n"
          ],
          "name": "stdout"
        }
      ]
    },
    {
      "cell_type": "markdown",
      "metadata": {
        "id": "UrIjRnp3qodA"
      },
      "source": [
        "## Test and Evaluate the Model"
      ]
    },
    {
      "cell_type": "code",
      "metadata": {
        "id": "JVq8pFGVcZug",
        "colab": {
          "base_uri": "https://localhost:8080/",
          "height": 296
        },
        "outputId": "eb7e36e9-4fdb-4517-d2ef-acf62469cadd"
      },
      "source": [
        "train_loss_list, valid_loss_list, global_steps_list = load_metrics(destination_folder + '/metrics.pt')\n",
        "plt.plot(global_steps_list, train_loss_list, label='Train')\n",
        "plt.plot(global_steps_list, valid_loss_list, label='Valid')\n",
        "plt.xlabel('Global Steps')\n",
        "plt.ylabel('Loss')\n",
        "plt.legend()\n",
        "plt.show()"
      ],
      "execution_count": null,
      "outputs": [
        {
          "output_type": "stream",
          "text": [
            "Model loaded from <== .//metrics.pt\n"
          ],
          "name": "stdout"
        },
        {
          "output_type": "display_data",
          "data": {
            "image/png": "[encoded data removed]",
            "text/plain": [
              "<Figure size 432x288 with 1 Axes>"
            ]
          },
          "metadata": {
            "tags": [],
            "needs_background": "light"
          }
        }
      ]
    },
    {
      "cell_type": "code",
      "metadata": {
        "id": "DYHIo0t0cZwu",
        "colab": {
          "base_uri": "https://localhost:8080/"
        },
        "outputId": "3a29c04d-b55b-4718-a05e-b3bc3c67a2da"
      },
      "source": [
        "best_model = BERT().to(device)\n",
        "\n",
        "load_checkpoint(destination_folder + '/model.pt', best_model)\n",
        "\n",
        "y_pred = []\n",
        "y_true = []\n",
        "\n",
        "best_model.eval()\n",
        "with torch.no_grad():\n",
        "    for (Label, Tweet), _ in test_loader:\n",
        "\n",
        "            Label = Label.type(torch.LongTensor)           \n",
        "            Label = Label.to(device)\n",
        "            Tweet = Tweet.type(torch.LongTensor)  \n",
        "            Tweet = Tweet.to(device)\n",
        "            output = best_model(Tweet, Label)\n",
        "\n",
        "            _, output = output\n",
        "            y_pred.extend(torch.argmax(output, 1).tolist())\n",
        "            y_true.extend(Label.tolist())\n",
        "\n",
        "from sklearn.metrics import confusion_matrix\n",
        "from sklearn.metrics import accuracy_score\n",
        "from sklearn.metrics import f1_score\n",
        "from sklearn.metrics import classification_report\n",
        "\n",
        "print(\"\\n=========================================================\\n\")\n",
        "print(\"Confusion Matrix:\")\n",
        "cm = confusion_matrix(y_true, y_pred, labels=[1,0])\n",
        "print(cm)\n",
        "\n",
        "print(\"\\n=========================================================\\n\")\n",
        "accuracy = accuracy_score(y_true, y_pred)\n",
        "print(\"Accuracy: {}\".format(accuracy))\n",
        "\n",
        "f1 = f1_score(y_true, y_pred, average='macro')\n",
        "print(\"F1 Score: \", f1)\n",
        "\n",
        "print(\"\\n=========================================================\\n\")\n",
        "print(\"Classification Report:\")\n",
        "print(classification_report(y_true, y_pred, labels=[1,0], digits=4, target_names=['Non-HS', 'HS']))"
      ],
      "execution_count": null,
      "outputs": [
        {
          "output_type": "stream",
          "text": [
            "Some weights of the model checkpoint at bert-base-uncased were not used when initializing BertForSequenceClassification: ['cls.predictions.bias', 'cls.predictions.transform.dense.weight', 'cls.predictions.transform.dense.bias', 'cls.predictions.decoder.weight', 'cls.seq_relationship.weight', 'cls.seq_relationship.bias', 'cls.predictions.transform.LayerNorm.weight', 'cls.predictions.transform.LayerNorm.bias']\n",
            "- This IS expected if you are initializing BertForSequenceClassification from the checkpoint of a model trained on another task or with another architecture (e.g. initializing a BertForSequenceClassification model from a BertForPreTraining model).\n",
            "- This IS NOT expected if you are initializing BertForSequenceClassification from the checkpoint of a model that you expect to be exactly identical (initializing a BertForSequenceClassification model from a BertForSequenceClassification model).\n",
            "Some weights of BertForSequenceClassification were not initialized from the model checkpoint at bert-base-uncased and are newly initialized: ['classifier.weight', 'classifier.bias']\n",
            "You should probably TRAIN this model on a down-stream task to be able to use it for predictions and inference.\n"
          ],
          "name": "stderr"
        },
        {
          "output_type": "stream",
          "text": [
            "Model loaded from <== .//model.pt\n",
            "\n",
            "=========================================================\n",
            "\n",
            "Confusion Matrix:\n",
            "[[84  7]\n",
            " [12 40]]\n",
            "\n",
            "=========================================================\n",
            "\n",
            "Accuracy: 0.8671328671328671\n",
            "F1 Score:  0.8532382650029708\n",
            "\n",
            "=========================================================\n",
            "\n",
            "Classification Report:\n",
            "              precision    recall  f1-score   support\n",
            "\n",
            "      Non-HS     0.8750    0.9231    0.8984        91\n",
            "          HS     0.8511    0.7692    0.8081        52\n",
            "\n",
            "    accuracy                         0.8671       143\n",
            "   macro avg     0.8630    0.8462    0.8532       143\n",
            "weighted avg     0.8663    0.8671    0.8656       143\n",
            "\n"
          ],
          "name": "stdout"
        }
      ]
    },
    {
      "cell_type": "markdown",
      "metadata": {
        "id": "RjMSnfWcuQmv"
      },
      "source": [
        "# Penjelasan hasil training dan testing hate speech model \n",
        "\n",
        "untuk hasil dari training pada hate speech dataset menggunakan pre-trained model memiliki nilai akurasi dan recall yang baik yaitu akurasi sebesar 0.86 dan f1-score sebesar 0.85. Nilai ini juga dapat dilihat pada loss dan classification report diatas. untuk hasil dari plotting diatas dapat diketahui bahwa nilai loss dari model tersebut pada saat training maupun saat validasi menurun sejalan dengan bertambahnya global steps dan juga pada classification report yang menunjukkan nilai precision, recall, dan f1-score dari seriap labelnya memiliki niali yang baik juga, sebagai berikut:\n",
        "\n",
        "1.   untuk data yang berupa non hate speech dengan jumlah data sebesar 91, model tersebut dapat memprediksinya dengan nilai precision sebesar 0.87, nilai recall sebesar 0.91, dan nilai f1-score sebesar 0.898.\n",
        "\n",
        "2.   Untuk data yang berupa hate speech dengan jumlah data sebanyak 52 data, model tersebut dapat mehasilkan nilai precision sebesar 0.85, nilai recall sebesar 0.76, dan nilai f1-score sebesar 0.80.\n",
        "\n"
      ]
    },
    {
      "cell_type": "markdown",
      "metadata": {
        "id": "cBeMVA6kVF8e"
      },
      "source": [
        "# Test the model with Sentiment dataset"
      ]
    },
    {
      "cell_type": "code",
      "metadata": {
        "colab": {
          "base_uri": "https://localhost:8080/",
          "height": 195
        },
        "id": "h7Wq5UkV9-Di",
        "outputId": "8ef09fc5-20af-43b0-e99a-e513974be91c"
      },
      "source": [
        "# load dataset\n",
        "dataset = pd.read_csv('sentiment.csv', sep=';')\n",
        "\n",
        "text = dataset['Tweets']\n",
        "\n",
        "dataset.head()"
      ],
      "execution_count": null,
      "outputs": [
        {
          "output_type": "execute_result",
          "data": {
            "text/html": [
              "<div>\n",
              "<style scoped>\n",
              "    .dataframe tbody tr th:only-of-type {\n",
              "        vertical-align: middle;\n",
              "    }\n",
              "\n",
              "    .dataframe tbody tr th {\n",
              "        vertical-align: top;\n",
              "    }\n",
              "\n",
              "    .dataframe thead th {\n",
              "        text-align: right;\n",
              "    }\n",
              "</style>\n",
              "<table border=\"1\" class=\"dataframe\">\n",
              "  <thead>\n",
              "    <tr style=\"text-align: right;\">\n",
              "      <th></th>\n",
              "      <th>Tweets</th>\n",
              "      <th>Label</th>\n",
              "    </tr>\n",
              "  </thead>\n",
              "  <tbody>\n",
              "    <tr>\n",
              "      <th>0</th>\n",
              "      <td>rt @mrtampi: agus makin santai.\\nahok makin sa...</td>\n",
              "      <td>negatif</td>\n",
              "    </tr>\n",
              "    <tr>\n",
              "      <th>1</th>\n",
              "      <td>pilkada dki jangan pilih pki!! berbahaya!! pil...</td>\n",
              "      <td>negatif</td>\n",
              "    </tr>\n",
              "    <tr>\n",
              "      <th>2</th>\n",
              "      <td>pdip sengaja becah belah rakyat warga dki tida...</td>\n",
              "      <td>negatif</td>\n",
              "    </tr>\n",
              "    <tr>\n",
              "      <th>3</th>\n",
              "      <td>rt @gunromli: sylviana kesyikan ngomong sendir...</td>\n",
              "      <td>negatif</td>\n",
              "    </tr>\n",
              "    <tr>\n",
              "      <th>4</th>\n",
              "      <td>rt @gunromli: sylviana kesyikan ngomong sendir...</td>\n",
              "      <td>negatif</td>\n",
              "    </tr>\n",
              "  </tbody>\n",
              "</table>\n",
              "</div>"
            ],
            "text/plain": [
              "                                              Tweets    Label\n",
              "0  rt @mrtampi: agus makin santai.\\nahok makin sa...  negatif\n",
              "1  pilkada dki jangan pilih pki!! berbahaya!! pil...  negatif\n",
              "2  pdip sengaja becah belah rakyat warga dki tida...  negatif\n",
              "3  rt @gunromli: sylviana kesyikan ngomong sendir...  negatif\n",
              "4  rt @gunromli: sylviana kesyikan ngomong sendir...  negatif"
            ]
          },
          "metadata": {
            "tags": []
          },
          "execution_count": 16
        }
      ]
    },
    {
      "cell_type": "markdown",
      "metadata": {
        "id": "pDxXb6Q0qyhW"
      },
      "source": [
        "## Pre-Processing the Sentiment Dataset"
      ]
    },
    {
      "cell_type": "code",
      "metadata": {
        "id": "Oq9S4he79-GJ"
      },
      "source": [
        "def SentimentPreprocess(phrase):\n",
        "    \n",
        "    # Remove Indonesian stopwords\n",
        "    factory = StopWordRemoverFactory()\n",
        "    stopword = factory.create_stop_word_remover()\n",
        "    stop = stopword.remove(phrase)\n",
        "\n",
        "    # Remove punctuation in the sentences and case-folding(lower all capital Latter)\n",
        "    phrase = stop.translate(str.maketrans('','',string.punctuation)).lower()\n",
        "\n",
        "    # remove number\n",
        "    phrase = re.sub(r\"\\d+\", \"\", phrase)\n",
        "\n",
        "    #remove whitespace\n",
        "    phrase = phrase.strip()\n",
        "    \n",
        "    return phrase"
      ],
      "execution_count": null,
      "outputs": []
    },
    {
      "cell_type": "code",
      "metadata": {
        "colab": {
          "base_uri": "https://localhost:8080/",
          "height": 195
        },
        "id": "PmJe3YCj9-Ii",
        "outputId": "7c258d81-d17f-49a9-8802-dc57bd2cff01"
      },
      "source": [
        "new_txt = text.apply(SentimentPreprocess)\n",
        "\n",
        "dataset['Tweets'] = new_txt.copy()\n",
        "dataset['Label'] = (dataset['Label'] == 'positif').astype('int')\n",
        "\n",
        "dataset.head()"
      ],
      "execution_count": null,
      "outputs": [
        {
          "output_type": "execute_result",
          "data": {
            "text/html": [
              "<div>\n",
              "<style scoped>\n",
              "    .dataframe tbody tr th:only-of-type {\n",
              "        vertical-align: middle;\n",
              "    }\n",
              "\n",
              "    .dataframe tbody tr th {\n",
              "        vertical-align: top;\n",
              "    }\n",
              "\n",
              "    .dataframe thead th {\n",
              "        text-align: right;\n",
              "    }\n",
              "</style>\n",
              "<table border=\"1\" class=\"dataframe\">\n",
              "  <thead>\n",
              "    <tr style=\"text-align: right;\">\n",
              "      <th></th>\n",
              "      <th>Tweets</th>\n",
              "      <th>Label</th>\n",
              "    </tr>\n",
              "  </thead>\n",
              "  <tbody>\n",
              "    <tr>\n",
              "      <th>0</th>\n",
              "      <td>rt mrtampi agus makin santainahok makin santun...</td>\n",
              "      <td>0</td>\n",
              "    </tr>\n",
              "    <tr>\n",
              "      <th>1</th>\n",
              "      <td>pilkada dki jangan pilih pki berbahaya pilih  ...</td>\n",
              "      <td>0</td>\n",
              "    </tr>\n",
              "    <tr>\n",
              "      <th>2</th>\n",
              "      <td>pdip sengaja becah belah rakyat warga dki pili...</td>\n",
              "      <td>0</td>\n",
              "    </tr>\n",
              "    <tr>\n",
              "      <th>3</th>\n",
              "      <td>rt gunromli sylviana kesyikan ngomong sendiri ...</td>\n",
              "      <td>0</td>\n",
              "    </tr>\n",
              "    <tr>\n",
              "      <th>4</th>\n",
              "      <td>rt gunromli sylviana kesyikan ngomong sendiri ...</td>\n",
              "      <td>0</td>\n",
              "    </tr>\n",
              "  </tbody>\n",
              "</table>\n",
              "</div>"
            ],
            "text/plain": [
              "                                              Tweets  Label\n",
              "0  rt mrtampi agus makin santainahok makin santun...      0\n",
              "1  pilkada dki jangan pilih pki berbahaya pilih  ...      0\n",
              "2  pdip sengaja becah belah rakyat warga dki pili...      0\n",
              "3  rt gunromli sylviana kesyikan ngomong sendiri ...      0\n",
              "4  rt gunromli sylviana kesyikan ngomong sendiri ...      0"
            ]
          },
          "metadata": {
            "tags": []
          },
          "execution_count": 18
        }
      ]
    },
    {
      "cell_type": "code",
      "metadata": {
        "id": "m33Qpmo99-Ku"
      },
      "source": [
        "# Split according to label\n",
        "df_negatif = dataset[dataset['Label'] == 0]\n",
        "df_positif = dataset[dataset['Label'] == 1]\n",
        "\n",
        "# Train-test split\n",
        "df_negatif_full_train, df_negatif_test = train_test_split(df_negatif, train_size = 0.8, random_state = 1)\n",
        "df_positif_full_train, df_positif_test = train_test_split(df_positif, train_size = 0.8, random_state = 1)\n",
        "\n",
        "# Train-valid split\n",
        "df_negatif_train, df_negatif_valid = train_test_split(df_negatif_full_train, train_size = 0.8, random_state = 1)\n",
        "df_positif_train, df_positif_valid = train_test_split(df_positif_full_train, train_size = 0.8, random_state = 1)\n",
        "\n",
        "# Concatenate splits of different labels\n",
        "df_train = pd.concat([df_negatif_train, df_positif_train], ignore_index=True, sort=False)\n",
        "df_valid = pd.concat([df_negatif_valid, df_positif_valid], ignore_index=True, sort=False)\n",
        "df_test = pd.concat([df_negatif_test, df_positif_test], ignore_index=True, sort=False)\n",
        "\n",
        "# Write preprocessed data\n",
        "df_train.to_csv(destination_folder + '/trainSentiment.csv', index=False)\n",
        "df_valid.to_csv(destination_folder + '/validSentiment.csv', index=False)\n",
        "df_test.to_csv(destination_folder + '/testSentiment.csv', index=False)"
      ],
      "execution_count": null,
      "outputs": []
    },
    {
      "cell_type": "markdown",
      "metadata": {
        "id": "86CNLBZAq45g"
      },
      "source": [
        "## Tokenize and Load Splitted Sentiment Dataframe"
      ]
    },
    {
      "cell_type": "code",
      "metadata": {
        "id": "JWN9MVcn-Vbg"
      },
      "source": [
        "# Model parameter\n",
        "MAX_SEQ_LEN = 128\n",
        "tokenizer = BertTokenizer.from_pretrained('bert-base-uncased')\n",
        "PAD_INDEX = tokenizer.convert_tokens_to_ids(tokenizer.pad_token)\n",
        "UNK_INDEX = tokenizer.convert_tokens_to_ids(tokenizer.unk_token)\n",
        "\n",
        "# Fields\n",
        "\n",
        "label_field = Field(sequential=False, use_vocab=False, batch_first=True, dtype=torch.float)\n",
        "text_field = Field(use_vocab=False, tokenize=tokenizer.encode, lower=False, include_lengths=False, batch_first=True,\n",
        "                   fix_length=MAX_SEQ_LEN, pad_token=PAD_INDEX, unk_token=UNK_INDEX)\n",
        "fields = [('Tweets', text_field), ('Label', label_field)]\n",
        "\n",
        "# TabularDataset\n",
        "\n",
        "train, valid, test = TabularDataset.splits(path=source_folder, train='trainSentiment.csv', validation='validSentiment.csv',\n",
        "                                           test='testSentiment.csv', format='CSV', fields=fields, skip_header=True)\n",
        "\n",
        "# Iterators\n",
        "\n",
        "trainSentiment_loader = BucketIterator(train, batch_size=16, sort_key=lambda x: len(x.Tweets),\n",
        "                            device=device, train=True, sort=True, sort_within_batch=True)\n",
        "validSentiment_loader = BucketIterator(valid, batch_size=16, sort_key=lambda x: len(x.Tweets),\n",
        "                            device=device, train=True, sort=True, sort_within_batch=True)\n",
        "testSentiment_loader = Iterator(test, batch_size=16, device=device, train=False, shuffle=False, sort=False)"
      ],
      "execution_count": null,
      "outputs": []
    },
    {
      "cell_type": "markdown",
      "metadata": {
        "id": "kjgPFbTdrIU5"
      },
      "source": [
        "## Test and Evaluate the speech model with sentiment dataset "
      ]
    },
    {
      "cell_type": "code",
      "metadata": {
        "colab": {
          "base_uri": "https://localhost:8080/"
        },
        "id": "aP1YvOcr-Vdo",
        "outputId": "785c253f-3e34-47ba-8c8a-c2a9bd4752f8"
      },
      "source": [
        "best_model = BERT().to(device)\n",
        "\n",
        "load_checkpoint(destination_folder + '/model.pt', best_model)\n",
        "\n",
        "y_pred = []\n",
        "y_true = []\n",
        "\n",
        "best_model.eval()\n",
        "with torch.no_grad():\n",
        "    for (Tweets, Label), _ in testSentiment_loader:\n",
        "\n",
        "            Label = Label.type(torch.LongTensor)           \n",
        "            Label = Label.to(device)\n",
        "            Tweets = Tweets.type(torch.LongTensor)  \n",
        "            Tweets = Tweets.to(device)\n",
        "            output = best_model(Tweets, Label)\n",
        "\n",
        "            _, output = output\n",
        "            y_pred.extend(torch.argmax(output, 1).tolist())\n",
        "            y_true.extend(Label.tolist())\n",
        "\n",
        "from sklearn.metrics import confusion_matrix\n",
        "from sklearn.metrics import accuracy_score\n",
        "from sklearn.metrics import f1_score\n",
        "from sklearn.metrics import classification_report\n",
        "\n",
        "print(\"\\n=========================================================\\n\")\n",
        "print(\"Confusion Matrix:\")\n",
        "cm = confusion_matrix(y_true, y_pred, labels=[1,0])\n",
        "print(cm)\n",
        "\n",
        "print(\"\\n=========================================================\\n\")\n",
        "accuracy = accuracy_score(y_true, y_pred)\n",
        "print(\"Accuracy: {}\".format(accuracy))\n",
        "\n",
        "f1 = f1_score(y_true, y_pred, average='macro')\n",
        "print(\"F1 Score: \", f1)\n",
        "\n",
        "print(\"\\n=========================================================\\n\")\n",
        "print(\"Classification Report:\")\n",
        "print(classification_report(y_true, y_pred, labels=[1,0], digits=4, target_names=['Positif', 'Negatif']))"
      ],
      "execution_count": null,
      "outputs": [
        {
          "output_type": "stream",
          "text": [
            "Some weights of the model checkpoint at bert-base-uncased were not used when initializing BertForSequenceClassification: ['cls.predictions.bias', 'cls.predictions.transform.dense.weight', 'cls.predictions.transform.dense.bias', 'cls.predictions.decoder.weight', 'cls.seq_relationship.weight', 'cls.seq_relationship.bias', 'cls.predictions.transform.LayerNorm.weight', 'cls.predictions.transform.LayerNorm.bias']\n",
            "- This IS expected if you are initializing BertForSequenceClassification from the checkpoint of a model trained on another task or with another architecture (e.g. initializing a BertForSequenceClassification model from a BertForPreTraining model).\n",
            "- This IS NOT expected if you are initializing BertForSequenceClassification from the checkpoint of a model that you expect to be exactly identical (initializing a BertForSequenceClassification model from a BertForSequenceClassification model).\n",
            "Some weights of BertForSequenceClassification were not initialized from the model checkpoint at bert-base-uncased and are newly initialized: ['classifier.weight', 'classifier.bias']\n",
            "You should probably TRAIN this model on a down-stream task to be able to use it for predictions and inference.\n"
          ],
          "name": "stderr"
        },
        {
          "output_type": "stream",
          "text": [
            "Model loaded from <== .//model.pt\n",
            "\n",
            "=========================================================\n",
            "\n",
            "Confusion Matrix:\n",
            "[[148   4]\n",
            " [138  12]]\n",
            "\n",
            "=========================================================\n",
            "\n",
            "Accuracy: 0.5298013245033113\n",
            "F1 Score:  0.41018870000550145\n",
            "\n",
            "=========================================================\n",
            "\n",
            "Classification Report:\n",
            "              precision    recall  f1-score   support\n",
            "\n",
            "     Positif     0.5175    0.9737    0.6758       152\n",
            "     Negatif     0.7500    0.0800    0.1446       150\n",
            "\n",
            "    accuracy                         0.5298       302\n",
            "   macro avg     0.6337    0.5268    0.4102       302\n",
            "weighted avg     0.6330    0.5298    0.4119       302\n",
            "\n"
          ],
          "name": "stdout"
        }
      ]
    },
    {
      "cell_type": "markdown",
      "metadata": {
        "id": "Hc80I2LiqGHU"
      },
      "source": [
        "# Penjelasan hasil testing hate speech model dengan menggunakan sentiment dataset\n",
        "\n",
        "untuk hasil dari testing diatas, dapat diketahui bahwa model tersebut dalam melakukan testing dengan sentiment dataset, memiliki nilai akurasi dan f1-score yang kurang baik untuk melakukan testing pada dataset sentiment. Nilai yang dihasilkan adalah akurasi sebesar 0.52 dan f1-score sebesar 0.41. Untuk perhitungan nilai precision, recall, dan f1-score untuk masing-masing label adalah sebagai berikut\n",
        "\n",
        "1.   Untuk nilai precision dari data yang dengan label positif adalah 0.51, recall sebesar 0.97, dan f1-score sebesar 0.67 dari 152 data \n",
        "\n",
        "2.   Untuk nilai precision dari label negatif adalah 0.75, recall sebesar 0.08, dan f1 score sebesar 0.14 dari 150 data.\n",
        "\n",
        "\n",
        "\n",
        "\n"
      ]
    },
    {
      "cell_type": "markdown",
      "metadata": {
        "id": "4tM4wNE5rTE0"
      },
      "source": [
        "# Penjelasan Cross-Inferencing (Hate Speech trained BERT model --> test with sentiment dataset)\n",
        "\n",
        "Untuk hasil dari cross-inferencing model dari pre-train BERT model yang di train menggunakan hate speech dataset dan di test menggunakan sentiment dataset dapat diketahui bahwa beberapa dari tweets yang tergolong hate speech cenderung mempunyai sentimen negatif dapat dibuktikan pada hasil dari classification report diatas yang dimana menurut model yang telah dilatih oleh hate speech dataset dan di test menggunakan sentiment dataset untuk yang menghasilkan nilai negatif memiliki nilai precision yang cukup besar yaitu 0.75 dan recall sebesar 0.80 yang dimana dari nilai tersebut dapat diketahui bahwa beberapa tweet yang tergolong hate speech termasuk kedalam sentiment negatif. \n",
        "\n",
        "\n",
        "\n"
      ]
    },
    {
      "cell_type": "markdown",
      "metadata": {
        "id": "ILb5FDBGLvW5"
      },
      "source": [
        "# Referensi\n",
        "\n",
        "1. https://github.com/wawancenggoro/COMP6567/tree/master/Session%2011\n",
        "\n",
        "2. https://medium.com/@ksnugroho/dasar-text-preprocessing-dengan-python-a4fa52608ffe\n",
        "\n",
        "3. https://huggingface.co/cahya/bert-base-indonesian-522M"
      ]
    }
  ]
}